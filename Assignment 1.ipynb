{
 "cells": [
  {
   "cell_type": "markdown",
   "id": "5cbe4a3d",
   "metadata": {},
   "source": [
    "1. In the below elements which of them are values or an expression? eg:- values can be integer or string and expressions will be mathematical operators.\n",
    "* , 'hello', -87.8, -, /, +, 6 \n",
    "* is an operator\n",
    "'hello' is a value(string)\n",
    "-87.8 is a value(float)\n",
    "- is an operator\n",
    "+ is an opearator\n",
    "6 is a value (integer)"
   ]
  },
  {
   "cell_type": "markdown",
   "id": "1f20aa38",
   "metadata": {},
   "source": []
  },
  {
   "cell_type": "markdown",
   "id": "0f9f02bd",
   "metadata": {},
   "source": [
    "2. What is the difference between string and variable?\n",
    "variable is used for assigning and storing of any values in the primary memory whereas, string is any values we can assign inside quotes."
   ]
  },
  {
   "cell_type": "markdown",
   "id": "9e4b3c25",
   "metadata": {},
   "source": [
    "3. Describe three different data types.\n",
    "In python we have three types of data\n",
    "1) Integer, 2)float 3) complex\n",
    "Integer data type contain only integer values.\n",
    "float data type can contain fractional values.\n",
    "complex data type contain complex numbers with real and imaginary values."
   ]
  },
  {
   "cell_type": "markdown",
   "id": "9e619148",
   "metadata": {},
   "source": [
    "4. What is an expression made up of? What do all expressions do?\n",
    "\n",
    "Expression is made up of variables, operators and functions.\n",
    "Expression can do operations on variables according to the functions and operators given by the user and it will give the final result.\n"
   ]
  },
  {
   "cell_type": "markdown",
   "id": "39985ed4",
   "metadata": {},
   "source": [
    "5. This assignment statements, like spam = 10. What is the difference between an expression and a statement?\n",
    "\n",
    "The expression will do some operations and it will give final result whereas, statement will not give any output or result."
   ]
  },
  {
   "cell_type": "markdown",
   "id": "19b96174",
   "metadata": {},
   "source": [
    "6. After running the following code, what does the variable bacon contain?\n",
    "bacon = 22\n",
    "bacon + 1"
   ]
  },
  {
   "cell_type": "code",
   "execution_count": 1,
   "id": "c356b388",
   "metadata": {},
   "outputs": [
    {
     "data": {
      "text/plain": [
       "23"
      ]
     },
     "execution_count": 1,
     "metadata": {},
     "output_type": "execute_result"
    }
   ],
   "source": [
    "bacon=22\n",
    "bacon+1\n",
    "# it will contain 23"
   ]
  },
  {
   "cell_type": "markdown",
   "id": "59b2be56",
   "metadata": {},
   "source": [
    "7. What should the values of the following two terms be?\n",
    "'spam' + 'spamspam'\n",
    "'spam' * 3"
   ]
  },
  {
   "cell_type": "code",
   "execution_count": 2,
   "id": "427050f6",
   "metadata": {},
   "outputs": [
    {
     "data": {
      "text/plain": [
       "'spamspamspam'"
      ]
     },
     "execution_count": 2,
     "metadata": {},
     "output_type": "execute_result"
    }
   ],
   "source": [
    "'spam'+'spamspam'"
   ]
  },
  {
   "cell_type": "code",
   "execution_count": 3,
   "id": "0627360e",
   "metadata": {},
   "outputs": [
    {
     "data": {
      "text/plain": [
       "'spamspamspam'"
      ]
     },
     "execution_count": 3,
     "metadata": {},
     "output_type": "execute_result"
    }
   ],
   "source": [
    "'spam'*3"
   ]
  },
  {
   "cell_type": "markdown",
   "id": "44a7cf45",
   "metadata": {},
   "source": [
    "8. Why is eggs a valid variable name while 100 is invalid?\n",
    "we cannot use any number or in built functions (int, str etc.) to name the variable but we can use eggs as variable name."
   ]
  },
  {
   "cell_type": "markdown",
   "id": "6e4dba66",
   "metadata": {},
   "source": [
    "9. What three functions can be used to get the integer, floating-point number, or string version of a value?\n",
    "\n",
    "we have int function to get integer values, float function to get float values and str function to get string values"
   ]
  },
  {
   "cell_type": "markdown",
   "id": "be178b6e",
   "metadata": {},
   "source": [
    "10. Why does this expression cause an error? How can you fix it?\n",
    "'I have eaten ' + 99 + ' burritos.'"
   ]
  },
  {
   "cell_type": "code",
   "execution_count": 4,
   "id": "9102da84",
   "metadata": {},
   "outputs": [
    {
     "ename": "TypeError",
     "evalue": "can only concatenate str (not \"int\") to str",
     "output_type": "error",
     "traceback": [
      "\u001b[1;31m---------------------------------------------------------------------------\u001b[0m",
      "\u001b[1;31mTypeError\u001b[0m                                 Traceback (most recent call last)",
      "\u001b[1;32m<ipython-input-4-d24137131a5c>\u001b[0m in \u001b[0;36m<module>\u001b[1;34m\u001b[0m\n\u001b[1;32m----> 1\u001b[1;33m \u001b[1;34m'I have eaten '\u001b[0m \u001b[1;33m+\u001b[0m \u001b[1;36m99\u001b[0m \u001b[1;33m+\u001b[0m \u001b[1;34m' burritos.'\u001b[0m\u001b[1;33m\u001b[0m\u001b[1;33m\u001b[0m\u001b[0m\n\u001b[0m",
      "\u001b[1;31mTypeError\u001b[0m: can only concatenate str (not \"int\") to str"
     ]
    }
   ],
   "source": [
    "'I have eaten ' + 99 + ' burritos.'"
   ]
  },
  {
   "cell_type": "markdown",
   "id": "803f0a91",
   "metadata": {},
   "source": [
    "here will occure because string values can concatenate with string values only, here 99 is integer so if we convert that integer into string values then we will not get any error "
   ]
  },
  {
   "cell_type": "code",
   "execution_count": 5,
   "id": "66f617ca",
   "metadata": {},
   "outputs": [
    {
     "data": {
      "text/plain": [
       "'I have eaten 99 burritos.'"
      ]
     },
     "execution_count": 5,
     "metadata": {},
     "output_type": "execute_result"
    }
   ],
   "source": [
    "'I have eaten ' + str(99) + ' burritos.'"
   ]
  },
  {
   "cell_type": "code",
   "execution_count": null,
   "id": "4c544d81",
   "metadata": {},
   "outputs": [],
   "source": [
    "\n"
   ]
  }
 ],
 "metadata": {
  "kernelspec": {
   "display_name": "Python 3",
   "language": "python",
   "name": "python3"
  },
  "language_info": {
   "codemirror_mode": {
    "name": "ipython",
    "version": 3
   },
   "file_extension": ".py",
   "mimetype": "text/x-python",
   "name": "python",
   "nbconvert_exporter": "python",
   "pygments_lexer": "ipython3",
   "version": "3.8.8"
  }
 },
 "nbformat": 4,
 "nbformat_minor": 5
}
